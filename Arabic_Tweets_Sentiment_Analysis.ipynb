{
 "cells": [
  {
   "cell_type": "markdown",
   "metadata": {},
   "source": [
    "# ICS 490 Special Topics in CS: <br />Twitter Sentiment Analysis\n",
    "## Term Project - Part II\n",
    "\n",
    "by:  <br /> \n",
    "Mustafa Al-Turki <br /> \n",
    "Abdullrazzaq Al-Shoshan <br /> \n",
    "Ali Al-Barrak <br /> "
   ]
  },
  {
   "cell_type": "markdown",
   "metadata": {},
   "source": [
    "# Dataset"
   ]
  },
  {
   "cell_type": "markdown",
   "metadata": {},
   "source": [
    "Cinema in Saudi Arabia, a dataset collected using Twitter API and labelled manually by three labels, each indicating the sentiment of the labelled tweet regarding openning cinemas in Saudi Arabia. The labels are Postitive, Negative and Neutral."
   ]
  },
  {
   "cell_type": "markdown",
   "metadata": {},
   "source": [
    "## Tasks"
   ]
  },
  {
   "cell_type": "markdown",
   "metadata": {},
   "source": [
    "\n",
    "1.\tBuild your own twitter dataset for sentiment analysis in Arabic language where labels should be: “Positive”, “Negative” and “Neutral”. <br/>\n",
    "a.\tMake sure to have at least 5000 tweets in your database<br/>\n",
    "b.\tMake sure to label all the collected tweets.<br/>\n",
    "\n",
    "2.\tImplement a classifier to classify your generated data. Make sure to use an ensemble classifier that will consist of:<br/>\n",
    "a.\tSupport vector machines.<br/>\n",
    "b.\tRandom forests.<br/>\n",
    "c.\tMultinomial Naïve Bayes.<br/>\n",
    "d.\tSoftmax classifier<br/>"
   ]
  },
  {
   "cell_type": "markdown",
   "metadata": {},
   "source": [
    "Import some important libraries"
   ]
  },
  {
   "cell_type": "code",
   "execution_count": 2,
   "metadata": {},
   "outputs": [],
   "source": [
    "import pandas as pd\n",
    "import numpy as np\n",
    "import nltk\n",
    "import matplotlib.pyplot as plt\n",
    "%matplotlib inline"
   ]
  },
  {
   "cell_type": "code",
   "execution_count": 3,
   "metadata": {},
   "outputs": [],
   "source": [
    "import sys\n",
    "stdout = sys.stdout\n",
    "reload(sys)\n",
    "sys.setdefaultencoding(\"utf-8\")\n",
    "sys.stdout = stdout"
   ]
  },
  {
   "cell_type": "markdown",
   "metadata": {},
   "source": [
    "## Data Preparation"
   ]
  },
  {
   "cell_type": "markdown",
   "metadata": {},
   "source": [
    "Load the dataset as a Pandas dataframe and extract some columns as numpy arrays"
   ]
  },
  {
   "cell_type": "code",
   "execution_count": 4,
   "metadata": {},
   "outputs": [],
   "source": [
    "dFrame = pd.read_csv('cinema_in_ksa.csv', dtype = {'Sentiment':str,'ID':str,'Text':str})\n",
    "tweets = dFrame[['Text']].as_matrix().reshape((5323,))\n",
    "sentiments = dFrame[['Sentiment']].as_matrix().reshape((5323,))"
   ]
  },
  {
   "cell_type": "code",
   "execution_count": 5,
   "metadata": {},
   "outputs": [
    {
     "data": {
      "text/html": [
       "<div>\n",
       "<style scoped>\n",
       "    .dataframe tbody tr th:only-of-type {\n",
       "        vertical-align: middle;\n",
       "    }\n",
       "\n",
       "    .dataframe tbody tr th {\n",
       "        vertical-align: top;\n",
       "    }\n",
       "\n",
       "    .dataframe thead th {\n",
       "        text-align: right;\n",
       "    }\n",
       "</style>\n",
       "<table border=\"1\" class=\"dataframe\">\n",
       "  <thead>\n",
       "    <tr style=\"text-align: right;\">\n",
       "      <th></th>\n",
       "      <th>Sentiment</th>\n",
       "      <th>ID</th>\n",
       "      <th>Text</th>\n",
       "    </tr>\n",
       "  </thead>\n",
       "  <tbody>\n",
       "    <tr>\n",
       "      <th>0</th>\n",
       "      <td>positive</td>\n",
       "      <td>9.4E+17</td>\n",
       "      <td>#السينما_في_السعوديه #المجتمع_متعطش_للسينما عس...</td>\n",
       "    </tr>\n",
       "    <tr>\n",
       "      <th>1</th>\n",
       "      <td>negative</td>\n",
       "      <td>9.4E+17</td>\n",
       "      <td>السينما ودخول الملاعب والحفلات الغنائيه كلها م...</td>\n",
       "    </tr>\n",
       "    <tr>\n",
       "      <th>2</th>\n",
       "      <td>positive</td>\n",
       "      <td>9.4E+17</td>\n",
       "      <td>الله يسعدك بابا سلمان #السينما_في_السعوديه</td>\n",
       "    </tr>\n",
       "    <tr>\n",
       "      <th>3</th>\n",
       "      <td>positive</td>\n",
       "      <td>9.4E+17</td>\n",
       "      <td>#السينما_في_السعوديه #المجتمع_متعطش_للسينما ال...</td>\n",
       "    </tr>\n",
       "    <tr>\n",
       "      <th>4</th>\n",
       "      <td>negative</td>\n",
       "      <td>9.4E+17</td>\n",
       "      <td>#السينما_في_السعوديه مواطنه سعوديه ولي حق أعطي...</td>\n",
       "    </tr>\n",
       "    <tr>\n",
       "      <th>5</th>\n",
       "      <td>negative</td>\n",
       "      <td>9.4E+17</td>\n",
       "      <td>السينما راح تزيد ارباح بالملايين  لكن لم ننظر ...</td>\n",
       "    </tr>\n",
       "    <tr>\n",
       "      <th>6</th>\n",
       "      <td>negative</td>\n",
       "      <td>9.4E+17</td>\n",
       "      <td>#السينما_في_السعوديه  اعتراضنا على السينما درء...</td>\n",
       "    </tr>\n",
       "    <tr>\n",
       "      <th>7</th>\n",
       "      <td>positive</td>\n",
       "      <td>9.4E+17</td>\n",
       "      <td>بإذن الله ثلاث شهور الا انت تشوف فيلم في صالة ...</td>\n",
       "    </tr>\n",
       "    <tr>\n",
       "      <th>8</th>\n",
       "      <td>positive</td>\n",
       "      <td>9.4E+17</td>\n",
       "      <td>اخيرااا 💜😭 #السينما_في_السعوديه</td>\n",
       "    </tr>\n",
       "    <tr>\n",
       "      <th>9</th>\n",
       "      <td>positive</td>\n",
       "      <td>9.4E+17</td>\n",
       "      <td>كثير من الناس راح يستفيدون من صالات السينما مث...</td>\n",
       "    </tr>\n",
       "    <tr>\n",
       "      <th>10</th>\n",
       "      <td>positive</td>\n",
       "      <td>9.4E+17</td>\n",
       "      <td>#السينما_في_السعوديه  مبروك لنا هذه الخطوه الت...</td>\n",
       "    </tr>\n",
       "    <tr>\n",
       "      <th>11</th>\n",
       "      <td>negative</td>\n",
       "      <td>9.4E+17</td>\n",
       "      <td>الحمدلله خلصنا من المشاكل الكبيره اللي هي قياد...</td>\n",
       "    </tr>\n",
       "    <tr>\n",
       "      <th>12</th>\n",
       "      <td>positive</td>\n",
       "      <td>9.4E+17</td>\n",
       "      <td>#السينما_في_السعوديه اخيرررراً ♥️💃🏻👏</td>\n",
       "    </tr>\n",
       "    <tr>\n",
       "      <th>13</th>\n",
       "      <td>negative</td>\n",
       "      <td>9.4E+17</td>\n",
       "      <td>#السينما_في_السعوديه ننتظر فتوى جواز السينما م...</td>\n",
       "    </tr>\n",
       "    <tr>\n",
       "      <th>14</th>\n",
       "      <td>negative</td>\n",
       "      <td>9.4E+17</td>\n",
       "      <td>#السينما_في_السعوديه كانت دولتنا سابقاً تتميّز...</td>\n",
       "    </tr>\n",
       "    <tr>\n",
       "      <th>15</th>\n",
       "      <td>positive</td>\n",
       "      <td>9.4E+17</td>\n",
       "      <td>برب البحرين باك السعودية 😂😂  #السينما_في_الس...</td>\n",
       "    </tr>\n",
       "    <tr>\n",
       "      <th>16</th>\n",
       "      <td>neutral</td>\n",
       "      <td>9.4E+17</td>\n",
       "      <td>#السينما_في_السعوديه  @AlNassrFC   كنت ولا زلت...</td>\n",
       "    </tr>\n",
       "    <tr>\n",
       "      <th>17</th>\n",
       "      <td>positive</td>\n",
       "      <td>9.4E+17</td>\n",
       "      <td>سعوديه جديده ، انفتاح على العالم ، شكرا محمد ب...</td>\n",
       "    </tr>\n",
       "    <tr>\n",
       "      <th>18</th>\n",
       "      <td>positive</td>\n",
       "      <td>9.4E+17</td>\n",
       "      <td>#السينما_في_السعوديه اقولكم الاجازه الصيفية ال...</td>\n",
       "    </tr>\n",
       "    <tr>\n",
       "      <th>19</th>\n",
       "      <td>negative</td>\n",
       "      <td>9.4E+17</td>\n",
       "      <td>#السينما_في_السعوديه الله يرحمك ضاعت من بعدك!!...</td>\n",
       "    </tr>\n",
       "    <tr>\n",
       "      <th>20</th>\n",
       "      <td>neutral</td>\n",
       "      <td>9.4E+17</td>\n",
       "      <td>مغردون : #السينما_في_السعودية \"انتصار للوسطية ...</td>\n",
       "    </tr>\n",
       "    <tr>\n",
       "      <th>21</th>\n",
       "      <td>positive</td>\n",
       "      <td>9.4E+17</td>\n",
       "      <td>#السينما_في_السعوديه ي خي انتم مكبرين الموضوع ...</td>\n",
       "    </tr>\n",
       "    <tr>\n",
       "      <th>22</th>\n",
       "      <td>positive</td>\n",
       "      <td>9.4E+17</td>\n",
       "      <td>الف مبروووووك #السينما_في_السعوديه</td>\n",
       "    </tr>\n",
       "    <tr>\n",
       "      <th>23</th>\n",
       "      <td>positive</td>\n",
       "      <td>9.4E+17</td>\n",
       "      <td>الحمدلله بنصير نشوف الافلام وهي جديدة ما ننتظر...</td>\n",
       "    </tr>\n",
       "    <tr>\n",
       "      <th>24</th>\n",
       "      <td>positive</td>\n",
       "      <td>9.4E+17</td>\n",
       "      <td>#السينما_في_السعوديه   😂😂😂😂اخيراً تطورتو</td>\n",
       "    </tr>\n",
       "    <tr>\n",
       "      <th>25</th>\n",
       "      <td>positive</td>\n",
       "      <td>9.4E+17</td>\n",
       "      <td>أهلا بالسينما في السعودية ثقافة وترفية 🇸🇦 #ا...</td>\n",
       "    </tr>\n",
       "    <tr>\n",
       "      <th>26</th>\n",
       "      <td>negative</td>\n",
       "      <td>9.4E+17</td>\n",
       "      <td>#السينما_في_السعودية رغبة الأقلية.</td>\n",
       "    </tr>\n",
       "    <tr>\n",
       "      <th>27</th>\n",
       "      <td>negative</td>\n",
       "      <td>9.4E+17</td>\n",
       "      <td>#السينما_في_السعوديه كأنك ترقص في جنازة، ماتت ...</td>\n",
       "    </tr>\n",
       "    <tr>\n",
       "      <th>28</th>\n",
       "      <td>neutral</td>\n",
       "      <td>9.4E+17</td>\n",
       "      <td>الوضع بيصير كذا 😅💔 #السينما_في_السعوديه http...</td>\n",
       "    </tr>\n",
       "    <tr>\n",
       "      <th>29</th>\n",
       "      <td>neutral</td>\n",
       "      <td>9.4E+17</td>\n",
       "      <td>سينمتنا وسينماتهم 😷 #السينما_في_السعوديه http...</td>\n",
       "    </tr>\n",
       "    <tr>\n",
       "      <th>...</th>\n",
       "      <td>...</td>\n",
       "      <td>...</td>\n",
       "      <td>...</td>\n",
       "    </tr>\n",
       "    <tr>\n",
       "      <th>5293</th>\n",
       "      <td>neutral</td>\n",
       "      <td>9.4E+17</td>\n",
       "      <td>يحلف احدهم ان كريم النيڤيا يمر ع الحضور في سين...</td>\n",
       "    </tr>\n",
       "    <tr>\n",
       "      <th>5294</th>\n",
       "      <td>positive</td>\n",
       "      <td>9.4E+17</td>\n",
       "      <td>يسافرون عشان ترفيه وسينما وحريه ولمن وفروها له...</td>\n",
       "    </tr>\n",
       "    <tr>\n",
       "      <th>5295</th>\n",
       "      <td>positive</td>\n",
       "      <td>9.4E+17</td>\n",
       "      <td>يستاهلون #عيال_صوفيا #خرفان_ايفانكا 🤗 #السينم...</td>\n",
       "    </tr>\n",
       "    <tr>\n",
       "      <th>5296</th>\n",
       "      <td>neutral</td>\n",
       "      <td>9.4E+17</td>\n",
       "      <td>يعني حسسنونا ان الشعب عمره ماشاف فلم اقول عاد ...</td>\n",
       "    </tr>\n",
       "    <tr>\n",
       "      <th>5297</th>\n",
       "      <td>positive</td>\n",
       "      <td>9.4E+17</td>\n",
       "      <td>يعني ننسى نروح البحرين خلاص!🙂  #السينما_في_ال...</td>\n",
       "    </tr>\n",
       "    <tr>\n",
       "      <th>5298</th>\n",
       "      <td>positive</td>\n",
       "      <td>9.4E+17</td>\n",
       "      <td>يعني نودع البحرين خلاص 😂  #السينما_في_السعوديه</td>\n",
       "    </tr>\n",
       "    <tr>\n",
       "      <th>5299</th>\n",
       "      <td>positive</td>\n",
       "      <td>9.4E+17</td>\n",
       "      <td>يفترض أول فلم ينعرض  (الصحوة ؛ كان صرحاً من خي...</td>\n",
       "    </tr>\n",
       "    <tr>\n",
       "      <th>5300</th>\n",
       "      <td>positive</td>\n",
       "      <td>9.4E+17</td>\n",
       "      <td>يقولون بس بالنعيريه يحطون سينما لان ناس متفتحي...</td>\n",
       "    </tr>\n",
       "    <tr>\n",
       "      <th>5301</th>\n",
       "      <td>negative</td>\n",
       "      <td>9.4E+17</td>\n",
       "      <td>يقولون راح تحل أزمة العطاله over #السينما_في_ا...</td>\n",
       "    </tr>\n",
       "    <tr>\n",
       "      <th>5302</th>\n",
       "      <td>positive</td>\n",
       "      <td>9.4E+17</td>\n",
       "      <td>🍿🎬🖤 #السينما_في_السعوديه</td>\n",
       "    </tr>\n",
       "    <tr>\n",
       "      <th>5303</th>\n",
       "      <td>positive</td>\n",
       "      <td>9.4E+17</td>\n",
       "      <td>🍿😎 #السينما_في_السعوديه</td>\n",
       "    </tr>\n",
       "    <tr>\n",
       "      <th>5304</th>\n",
       "      <td>neutral</td>\n",
       "      <td>9.4E+17</td>\n",
       "      <td>🎅🏿: ايقاف فيلم ل انجلينا جولي  👨🏻: ليش ؟  ...</td>\n",
       "    </tr>\n",
       "    <tr>\n",
       "      <th>5305</th>\n",
       "      <td>positive</td>\n",
       "      <td>9.4E+17</td>\n",
       "      <td>👆🏻👆🏻👆🏻 #السينما_في_السعودية بتكثر الأفلا...</td>\n",
       "    </tr>\n",
       "    <tr>\n",
       "      <th>5306</th>\n",
       "      <td>positive</td>\n",
       "      <td>9.4E+17</td>\n",
       "      <td>👏🏼👏🏼 #السينما_في_السعوديه</td>\n",
       "    </tr>\n",
       "    <tr>\n",
       "      <th>5307</th>\n",
       "      <td>positive</td>\n",
       "      <td>9.4E+17</td>\n",
       "      <td>👴🏽  متى مولود  👨🏻 يوم فتحت السينما    #الس...</td>\n",
       "    </tr>\n",
       "    <tr>\n",
       "      <th>5308</th>\n",
       "      <td>positive</td>\n",
       "      <td>9.4E+17</td>\n",
       "      <td>💃🏻💃🏻💃🏻💃🏻💃🏻💃🏻💃🏻 #السينما_في_السعوديه</td>\n",
       "    </tr>\n",
       "    <tr>\n",
       "      <th>5309</th>\n",
       "      <td>positive</td>\n",
       "      <td>9.4E+17</td>\n",
       "      <td>💃🏽💃🏽💃🏽 #السينما_في_السعوديه</td>\n",
       "    </tr>\n",
       "    <tr>\n",
       "      <th>5310</th>\n",
       "      <td>negative</td>\n",
       "      <td>9.4E+17</td>\n",
       "      <td>📌الملك عبدالعزيز بن ال سعود ، يحرق الأفلام ال...</td>\n",
       "    </tr>\n",
       "    <tr>\n",
       "      <th>5311</th>\n",
       "      <td>positive</td>\n",
       "      <td>9.4E+17</td>\n",
       "      <td>😂بدري الرسلولي اللوكيشن😂😂😂😂😂 #السينما_في...</td>\n",
       "    </tr>\n",
       "    <tr>\n",
       "      <th>5312</th>\n",
       "      <td>positive</td>\n",
       "      <td>9.4E+17</td>\n",
       "      <td>😂😂😂  #السينما_في_السعوديه</td>\n",
       "    </tr>\n",
       "    <tr>\n",
       "      <th>5313</th>\n",
       "      <td>positive</td>\n",
       "      <td>9.4E+17</td>\n",
       "      <td>😍❤️  #السينما_في_السعوديه</td>\n",
       "    </tr>\n",
       "    <tr>\n",
       "      <th>5314</th>\n",
       "      <td>positive</td>\n",
       "      <td>9.4E+17</td>\n",
       "      <td>😍🍹🍿 #السينما_في_السعوديه</td>\n",
       "    </tr>\n",
       "    <tr>\n",
       "      <th>5315</th>\n",
       "      <td>positive</td>\n",
       "      <td>9.4E+17</td>\n",
       "      <td>😍🍿🍹😂😂👏🏻👏🏻 #السينما_في_السعوديه</td>\n",
       "    </tr>\n",
       "    <tr>\n",
       "      <th>5316</th>\n",
       "      <td>positive</td>\n",
       "      <td>9.4E+17</td>\n",
       "      <td>😍💃🏼💃🏼💃🏼💃🏼  #السينما_في_السعوديه</td>\n",
       "    </tr>\n",
       "    <tr>\n",
       "      <th>5317</th>\n",
       "      <td>positive</td>\n",
       "      <td>9.4E+17</td>\n",
       "      <td>😍😍😍😍😍😍 #السينما_في_السعوديه</td>\n",
       "    </tr>\n",
       "    <tr>\n",
       "      <th>5318</th>\n",
       "      <td>negative</td>\n",
       "      <td>9.4E+17</td>\n",
       "      <td>😒  #السينما_في_السعوديه</td>\n",
       "    </tr>\n",
       "    <tr>\n",
       "      <th>5319</th>\n",
       "      <td>negative</td>\n",
       "      <td>9.4E+17</td>\n",
       "      <td>😒  #السينما_في_السعوديه</td>\n",
       "    </tr>\n",
       "    <tr>\n",
       "      <th>5320</th>\n",
       "      <td>negative</td>\n",
       "      <td>9.4E+17</td>\n",
       "      <td>😳😳🤔🤔؟!! #السينما_في_السعوديه</td>\n",
       "    </tr>\n",
       "    <tr>\n",
       "      <th>5321</th>\n",
       "      <td>positive</td>\n",
       "      <td>9.4E+17</td>\n",
       "      <td>🤔حاجة جميلة تشوف بلادك قاعدة تنفذ أشياء جديدة...</td>\n",
       "    </tr>\n",
       "    <tr>\n",
       "      <th>5322</th>\n",
       "      <td>negative</td>\n",
       "      <td>9.4E+17</td>\n",
       "      <td>🧐 الى اين ي المملكه العربيه السعوديه ؟ 🌚💿 #...</td>\n",
       "    </tr>\n",
       "  </tbody>\n",
       "</table>\n",
       "<p>5323 rows × 3 columns</p>\n",
       "</div>"
      ],
      "text/plain": [
       "     Sentiment       ID                                               Text\n",
       "0     positive  9.4E+17  #السينما_في_السعوديه #المجتمع_متعطش_للسينما عس...\n",
       "1     negative  9.4E+17  السينما ودخول الملاعب والحفلات الغنائيه كلها م...\n",
       "2     positive  9.4E+17         الله يسعدك بابا سلمان #السينما_في_السعوديه\n",
       "3     positive  9.4E+17  #السينما_في_السعوديه #المجتمع_متعطش_للسينما ال...\n",
       "4     negative  9.4E+17  #السينما_في_السعوديه مواطنه سعوديه ولي حق أعطي...\n",
       "5     negative  9.4E+17  السينما راح تزيد ارباح بالملايين  لكن لم ننظر ...\n",
       "6     negative  9.4E+17  #السينما_في_السعوديه  اعتراضنا على السينما درء...\n",
       "7     positive  9.4E+17  بإذن الله ثلاث شهور الا انت تشوف فيلم في صالة ...\n",
       "8     positive  9.4E+17                  اخيرااا 💜😭 #السينما_في_السعوديه\n",
       "9     positive  9.4E+17  كثير من الناس راح يستفيدون من صالات السينما مث...\n",
       "10    positive  9.4E+17  #السينما_في_السعوديه  مبروك لنا هذه الخطوه الت...\n",
       "11    negative  9.4E+17  الحمدلله خلصنا من المشاكل الكبيره اللي هي قياد...\n",
       "12    positive  9.4E+17            #السينما_في_السعوديه اخيرررراً ♥️💃🏻👏\n",
       "13    negative  9.4E+17  #السينما_في_السعوديه ننتظر فتوى جواز السينما م...\n",
       "14    negative  9.4E+17  #السينما_في_السعوديه كانت دولتنا سابقاً تتميّز...\n",
       "15    positive  9.4E+17  برب البحرين باك السعودية 😂😂  #السينما_في_الس...\n",
       "16     neutral  9.4E+17  #السينما_في_السعوديه  @AlNassrFC   كنت ولا زلت...\n",
       "17    positive  9.4E+17  سعوديه جديده ، انفتاح على العالم ، شكرا محمد ب...\n",
       "18    positive  9.4E+17  #السينما_في_السعوديه اقولكم الاجازه الصيفية ال...\n",
       "19    negative  9.4E+17  #السينما_في_السعوديه الله يرحمك ضاعت من بعدك!!...\n",
       "20     neutral  9.4E+17  مغردون : #السينما_في_السعودية \"انتصار للوسطية ...\n",
       "21    positive  9.4E+17  #السينما_في_السعوديه ي خي انتم مكبرين الموضوع ...\n",
       "22    positive  9.4E+17                 الف مبروووووك #السينما_في_السعوديه\n",
       "23    positive  9.4E+17  الحمدلله بنصير نشوف الافلام وهي جديدة ما ننتظر...\n",
       "24    positive  9.4E+17       #السينما_في_السعوديه   😂😂😂😂اخيراً تطورتو\n",
       "25    positive  9.4E+17  أهلا بالسينما في السعودية ثقافة وترفية 🇸🇦 #ا...\n",
       "26    negative  9.4E+17                 #السينما_في_السعودية رغبة الأقلية.\n",
       "27    negative  9.4E+17  #السينما_في_السعوديه كأنك ترقص في جنازة، ماتت ...\n",
       "28     neutral  9.4E+17  الوضع بيصير كذا 😅💔 #السينما_في_السعوديه http...\n",
       "29     neutral  9.4E+17  سينمتنا وسينماتهم 😷 #السينما_في_السعوديه http...\n",
       "...        ...      ...                                                ...\n",
       "5293   neutral  9.4E+17  يحلف احدهم ان كريم النيڤيا يمر ع الحضور في سين...\n",
       "5294  positive  9.4E+17  يسافرون عشان ترفيه وسينما وحريه ولمن وفروها له...\n",
       "5295  positive  9.4E+17  يستاهلون #عيال_صوفيا #خرفان_ايفانكا 🤗 #السينم...\n",
       "5296   neutral  9.4E+17  يعني حسسنونا ان الشعب عمره ماشاف فلم اقول عاد ...\n",
       "5297  positive  9.4E+17  يعني ننسى نروح البحرين خلاص!🙂  #السينما_في_ال...\n",
       "5298  positive  9.4E+17    يعني نودع البحرين خلاص 😂  #السينما_في_السعوديه\n",
       "5299  positive  9.4E+17  يفترض أول فلم ينعرض  (الصحوة ؛ كان صرحاً من خي...\n",
       "5300  positive  9.4E+17  يقولون بس بالنعيريه يحطون سينما لان ناس متفتحي...\n",
       "5301  negative  9.4E+17  يقولون راح تحل أزمة العطاله over #السينما_في_ا...\n",
       "5302  positive  9.4E+17                        🍿🎬🖤 #السينما_في_السعوديه\n",
       "5303  positive  9.4E+17                          🍿😎 #السينما_في_السعوديه\n",
       "5304   neutral  9.4E+17  🎅🏿: ايقاف فيلم ل انجلينا جولي  👨🏻: ليش ؟  ...\n",
       "5305  positive  9.4E+17  👆🏻👆🏻👆🏻 #السينما_في_السعودية بتكثر الأفلا...\n",
       "5306  positive  9.4E+17                      👏🏼👏🏼 #السينما_في_السعوديه\n",
       "5307  positive  9.4E+17  👴🏽  متى مولود  👨🏻 يوم فتحت السينما    #الس...\n",
       "5308  positive  9.4E+17  💃🏻💃🏻💃🏻💃🏻💃🏻💃🏻💃🏻 #السينما_في_السعوديه\n",
       "5309  positive  9.4E+17                  💃🏽💃🏽💃🏽 #السينما_في_السعوديه\n",
       "5310  negative  9.4E+17  📌الملك عبدالعزيز بن ال سعود ، يحرق الأفلام ال...\n",
       "5311  positive  9.4E+17  😂بدري الرسلولي اللوكيشن😂😂😂😂😂 #السينما_في...\n",
       "5312  positive  9.4E+17                       😂😂😂  #السينما_في_السعوديه\n",
       "5313  positive  9.4E+17                         😍❤️  #السينما_في_السعوديه\n",
       "5314  positive  9.4E+17                        😍🍹🍿 #السينما_في_السعوديه\n",
       "5315  positive  9.4E+17            😍🍿🍹😂😂👏🏻👏🏻 #السينما_في_السعوديه\n",
       "5316  positive  9.4E+17           😍💃🏼💃🏼💃🏼💃🏼  #السينما_في_السعوديه\n",
       "5317  positive  9.4E+17                  😍😍😍😍😍😍 #السينما_في_السعوديه\n",
       "5318  negative  9.4E+17                           😒  #السينما_في_السعوديه\n",
       "5319  negative  9.4E+17                           😒  #السينما_في_السعوديه\n",
       "5320  negative  9.4E+17                   😳😳🤔🤔؟!! #السينما_في_السعوديه\n",
       "5321  positive  9.4E+17  🤔حاجة جميلة تشوف بلادك قاعدة تنفذ أشياء جديدة...\n",
       "5322  negative  9.4E+17  🧐 الى اين ي المملكه العربيه السعوديه ؟ 🌚💿 #...\n",
       "\n",
       "[5323 rows x 3 columns]"
      ]
     },
     "execution_count": 5,
     "metadata": {},
     "output_type": "execute_result"
    }
   ],
   "source": [
    "dFrame"
   ]
  },
  {
   "cell_type": "markdown",
   "metadata": {},
   "source": [
    "Count the number of tweets for each class and the corresponding percentage."
   ]
  },
  {
   "cell_type": "code",
   "execution_count": 6,
   "metadata": {},
   "outputs": [
    {
     "name": "stdout",
     "output_type": "stream",
     "text": [
      "Number of tweets per class: \n",
      "\n",
      "positive    2578\n",
      "neutral     1498\n",
      "negative    1247\n",
      "Name: Sentiment, dtype: int64\n",
      "The percentage of postive tweets: 48.43\n",
      "The percentage of negative tweets: 23.43\n",
      "The percentage of neutral tweets: 28.14\n"
     ]
    }
   ],
   "source": [
    "print \"Number of tweets per class: \\n\"\n",
    "print dFrame['Sentiment'].value_counts()\n",
    "total = dFrame['Sentiment'].value_counts().sum()\n",
    "positive = dFrame['Sentiment'].value_counts()[0] \n",
    "neutral = dFrame['Sentiment'].value_counts()[1]\n",
    "negative = dFrame['Sentiment'].value_counts()[2]\n",
    "print \"The percentage of postive tweets: \" + str(\"%.2f\" % (positive *100.0 / total))\n",
    "print \"The percentage of negative tweets: \" + str(\"%.2f\" % (negative *100.0 / total))\n",
    "print \"The percentage of neutral tweets: \" + str(\"%.2f\" % (neutral *100.0 / total))"
   ]
  },
  {
   "cell_type": "code",
   "execution_count": 7,
   "metadata": {},
   "outputs": [
    {
     "data": {
      "text/plain": [
       "<matplotlib.axes._subplots.AxesSubplot at 0x40768470>"
      ]
     },
     "execution_count": 7,
     "metadata": {},
     "output_type": "execute_result"
    },
    {
     "data": {
      "image/png": "[encoded data removed]",
      "text/plain": [
       "<matplotlib.figure.Figure at 0x406d28d0>"
      ]
     },
     "metadata": {},
     "output_type": "display_data"
    }
   ],
   "source": [
    "dFrame['Sentiment'].value_counts().plot(kind='bar',title='Sentiment Histogram')"
   ]
  },
  {
   "cell_type": "markdown",
   "metadata": {},
   "source": [
    "Remove punctuations"
   ]
  },
  {
   "cell_type": "code",
   "execution_count": 8,
   "metadata": {},
   "outputs": [],
   "source": [
    "def remove_punctuation(text):\n",
    "    import string\n",
    "    return text.translate(None, string.punctuation) \n",
    "\n",
    "dFrame['Text'] = dFrame['Text'].apply(remove_punctuation)"
   ]
  },
  {
   "cell_type": "markdown",
   "metadata": {},
   "source": [
    "Apply Stemming to all tweets"
   ]
  },
  {
   "cell_type": "code",
   "execution_count": 9,
   "metadata": {},
   "outputs": [],
   "source": [
    "from nltk.stem import isri\n",
    "stemmer = isri.ISRIStemmer()\n",
    "\n",
    "for i in range(len(tweets)):\n",
    "    ne = map (stemmer.stem, [t.decode('utf-8') for t in tweets[i].split() ])\n",
    "    w = ''\n",
    "    for n in ne:\n",
    "        w = w + \" \"+str(n)\n",
    "    w = w.strip()\n",
    "    tweets[i] = w"
   ]
  },
  {
   "cell_type": "markdown",
   "metadata": {},
   "source": [
    "Importing Arabic stop words from nltk.corpus"
   ]
  },
  {
   "cell_type": "code",
   "execution_count": 10,
   "metadata": {},
   "outputs": [],
   "source": [
    "from nltk.corpus import stopwords\n",
    "stopword = stopwords.words('arabic')\n"
   ]
  },
  {
   "cell_type": "markdown",
   "metadata": {},
   "source": [
    "## Feature Extraction"
   ]
  },
  {
   "cell_type": "markdown",
   "metadata": {},
   "source": [
    "## Term Frequency - Inverse Document Frequency (TF-IDF)"
   ]
  },
  {
   "cell_type": "code",
   "execution_count": 11,
   "metadata": {},
   "outputs": [
    {
     "data": {
      "text/plain": [
       "(5323, 16385)"
      ]
     },
     "execution_count": 11,
     "metadata": {},
     "output_type": "execute_result"
    }
   ],
   "source": [
    "from sklearn.feature_extraction.text import CountVectorizer\n",
    "count_vect = CountVectorizer(stop_words = stopword)\n",
    "X = count_vect.fit_transform(dFrame['Text'])\n",
    "\n",
    "from sklearn.feature_extraction.text import TfidfTransformer\n",
    "tfidf_transformer = TfidfTransformer()\n",
    "X_tfidf = tfidf_transformer.fit_transform(X)\n",
    "X_tfidf.shape"
   ]
  },
  {
   "cell_type": "markdown",
   "metadata": {},
   "source": [
    "## Fixing Data Imbalance"
   ]
  },
  {
   "cell_type": "markdown",
   "metadata": {},
   "source": [
    "To achieve this goal we will generate synthtic data for the positive and negative class. we will use imbalanced-learn package provided under scikit-learn-contrib project.\n",
    "\n",
    "Note: to install the package on Python, run the following command: <br\\>\n",
    "```\n",
    "    pip install -U imbalanced-learn\n",
    "```"
   ]
  },
  {
   "cell_type": "code",
   "execution_count": 12,
   "metadata": {},
   "outputs": [],
   "source": [
    "from imblearn.over_sampling import SMOTE\n",
    "re_X_tfidf, re_sentiments = SMOTE().fit_sample(X_tfidf, sentiments)"
   ]
  },
  {
   "cell_type": "code",
   "execution_count": 13,
   "metadata": {},
   "outputs": [
    {
     "name": "stdout",
     "output_type": "stream",
     "text": [
      "Tweets in positive class: 2578\n",
      "Tweets in negative class: 2578\n",
      "Tweets in neutral class: 2578\n",
      "The percentage of postive tweets: 33.33\n",
      "The percentage of negative tweets: 33.33\n",
      "The percentage of neutral tweets: 33.33\n"
     ]
    }
   ],
   "source": [
    "positive, negative, irrelevant, neutral = 0,0,0,0\n",
    "for sent in re_sentiments:\n",
    "    if sent == 'positive':\n",
    "        positive += 1\n",
    "    elif sent == 'negative':\n",
    "        negative +=1\n",
    "    elif sent == 'neutral':\n",
    "        neutral +=1\n",
    "\n",
    "total = positive + negative + irrelevant + neutral\n",
    "print \"Tweets in positive class: \" + str(positive)\n",
    "print \"Tweets in negative class: \" + str(negative)\n",
    "print \"Tweets in neutral class: \" + str(neutral)\n",
    "\n",
    "print \"The percentage of postive tweets: \" + str(\"%.2f\" % (positive *100.0 / total))\n",
    "print \"The percentage of negative tweets: \" + str(\"%.2f\" % (positive *100.0 / total))\n",
    "print \"The percentage of neutral tweets: \" + str(\"%.2f\" % (positive *100.0 / total))"
   ]
  },
  {
   "cell_type": "markdown",
   "metadata": {},
   "source": [
    "## Classification Task"
   ]
  },
  {
   "cell_type": "markdown",
   "metadata": {},
   "source": [
    "### Classifier #1 Softmax"
   ]
  },
  {
   "cell_type": "markdown",
   "metadata": {},
   "source": [
    "#### 1.1 The performance of Softmax on the imbalance data."
   ]
  },
  {
   "cell_type": "code",
   "execution_count": 14,
   "metadata": {},
   "outputs": [
    {
     "name": "stdout",
     "output_type": "stream",
     "text": [
      "0.6401\n"
     ]
    }
   ],
   "source": [
    "from sklearn import linear_model\n",
    "from sklearn.model_selection import train_test_split\n",
    "\n",
    "X_train, X_test, y_train, y_test = train_test_split(X_tfidf, sentiments, stratify = sentiments)\n",
    "softmax = linear_model.LogisticRegression(penalty ='l2', tol=1e-7, C=1000, solver = 'newton-cg', multi_class = 'multinomial',max_iter=700)\n",
    "softmax.fit(X_train, y_train)\n",
    "print \"%.4f\" % (softmax.score(X_test, y_test))"
   ]
  },
  {
   "cell_type": "markdown",
   "metadata": {},
   "source": [
    "#### 1.2 The performance of Softmax using the dataset plus the synthized data."
   ]
  },
  {
   "cell_type": "code",
   "execution_count": 15,
   "metadata": {},
   "outputs": [
    {
     "name": "stdout",
     "output_type": "stream",
     "text": [
      "0.8361\n"
     ]
    }
   ],
   "source": [
    "from sklearn import linear_model\n",
    "from sklearn.model_selection import train_test_split\n",
    "\n",
    "X_train, X_test, y_train, y_test = train_test_split(re_X_tfidf, re_sentiments, stratify = re_sentiments)\n",
    "softmax = linear_model.LogisticRegression(penalty ='l2', tol=1e-7, C=1000, solver = 'lbfgs', multi_class = 'multinomial',max_iter=700)\n",
    "softmax.fit(X_train, y_train)\n",
    "print \"%.4f\" % (softmax.score(X_test, y_test))"
   ]
  },
  {
   "cell_type": "markdown",
   "metadata": {},
   "source": [
    "#### 1.3 Applying Dimensionality Reduction.  <br/>\n",
    "Note: Since the tf-idf matrix is sparce, PCA with svd_solver cannot be used, insted we use Latent Semantic Analysis (LSA) which is also known as Truncated SVD."
   ]
  },
  {
   "cell_type": "code",
   "execution_count": null,
   "metadata": {},
   "outputs": [
    {
     "name": "stdout",
     "output_type": "stream",
     "text": [
      "(7734L, 2500L)\n",
      "0.8084\n"
     ]
    }
   ],
   "source": [
    "from sklearn.decomposition import TruncatedSVD\n",
    "lsa = TruncatedSVD(n_components = 2500, algorithm='randomized')\n",
    "X_lsa = lsa.fit_transform(re_X_tfidf)\n",
    "print X_lsa.shape\n",
    "print \"%.4f\" % (np.sum(lsa.explained_variance_ratio_))"
   ]
  },
  {
   "cell_type": "markdown",
   "metadata": {},
   "source": [
    "#### 1.4 Performing Grid Search"
   ]
  },
  {
   "cell_type": "code",
   "execution_count": null,
   "metadata": {},
   "outputs": [
    {
     "name": "stdout",
     "output_type": "stream",
     "text": [
      "Fitting 5 folds for each of 648 candidates, totalling 3240 fits\n",
      "[Parallel(n_jobs=-1)]: Done   1 tasks      | elapsed:  1.1min\n",
      "[Parallel(n_jobs=-1)]: Done   2 tasks      | elapsed:  1.1min\n",
      "[Parallel(n_jobs=-1)]: Done   3 tasks      | elapsed:  1.9min\n",
      "[Parallel(n_jobs=-1)]: Done   4 tasks      | elapsed:  1.9min\n",
      "[Parallel(n_jobs=-1)]: Done   5 tasks      | elapsed:  2.7min\n",
      "[Parallel(n_jobs=-1)]: Done   6 tasks      | elapsed:  2.8min\n",
      "[Parallel(n_jobs=-1)]: Done   7 tasks      | elapsed:  3.4min\n",
      "[Parallel(n_jobs=-1)]: Done   8 tasks      | elapsed:  3.5min\n",
      "[Parallel(n_jobs=-1)]: Done   9 tasks      | elapsed:  4.2min\n",
      "[Parallel(n_jobs=-1)]: Done  10 tasks      | elapsed:  4.3min\n",
      "[Parallel(n_jobs=-1)]: Done  11 tasks      | elapsed:  4.7min\n",
      "[Parallel(n_jobs=-1)]: Done  12 tasks      | elapsed:  4.9min\n",
      "[Parallel(n_jobs=-1)]: Done  13 tasks      | elapsed:  4.9min\n",
      "[Parallel(n_jobs=-1)]: Done  14 tasks      | elapsed:  4.9min\n",
      "[Parallel(n_jobs=-1)]: Done  15 tasks      | elapsed:  5.0min\n",
      "[Parallel(n_jobs=-1)]: Done  16 tasks      | elapsed:  5.5min\n",
      "[Parallel(n_jobs=-1)]: Done  17 tasks      | elapsed:  5.6min\n",
      "[Parallel(n_jobs=-1)]: Done  18 tasks      | elapsed:  5.7min\n",
      "[Parallel(n_jobs=-1)]: Done  19 tasks      | elapsed:  5.7min\n",
      "[Parallel(n_jobs=-1)]: Done  20 tasks      | elapsed:  5.8min\n",
      "[Parallel(n_jobs=-1)]: Done  21 tasks      | elapsed:  5.9min\n",
      "[Parallel(n_jobs=-1)]: Done  22 tasks      | elapsed:  6.2min\n",
      "[Parallel(n_jobs=-1)]: Done  23 tasks      | elapsed:  6.3min\n",
      "[Parallel(n_jobs=-1)]: Done  24 tasks      | elapsed:  6.4min\n",
      "[Parallel(n_jobs=-1)]: Done  25 tasks      | elapsed:  6.5min\n",
      "[Parallel(n_jobs=-1)]: Done  26 tasks      | elapsed:  6.5min\n",
      "[Parallel(n_jobs=-1)]: Done  27 tasks      | elapsed:  6.6min\n",
      "[Parallel(n_jobs=-1)]: Done  28 tasks      | elapsed:  6.9min\n",
      "[Parallel(n_jobs=-1)]: Done  29 tasks      | elapsed:  7.0min\n",
      "[Parallel(n_jobs=-1)]: Done  30 tasks      | elapsed:  7.0min\n",
      "[Parallel(n_jobs=-1)]: Done  31 tasks      | elapsed:  7.2min\n",
      "[Parallel(n_jobs=-1)]: Done  32 tasks      | elapsed:  7.2min\n",
      "[Parallel(n_jobs=-1)]: Done  33 tasks      | elapsed:  7.3min\n",
      "[Parallel(n_jobs=-1)]: Done  34 tasks      | elapsed:  7.5min\n",
      "[Parallel(n_jobs=-1)]: Done  35 tasks      | elapsed:  7.5min\n",
      "[Parallel(n_jobs=-1)]: Done  36 tasks      | elapsed:  7.6min\n",
      "[Parallel(n_jobs=-1)]: Done  37 tasks      | elapsed:  7.8min\n",
      "[Parallel(n_jobs=-1)]: Done  38 tasks      | elapsed:  7.8min\n",
      "[Parallel(n_jobs=-1)]: Done  39 tasks      | elapsed:  7.8min\n",
      "[Parallel(n_jobs=-1)]: Done  40 tasks      | elapsed:  8.8min\n",
      "[Parallel(n_jobs=-1)]: Done  41 tasks      | elapsed:  8.8min\n",
      "[Parallel(n_jobs=-1)]: Done  42 tasks      | elapsed:  9.0min\n",
      "[Parallel(n_jobs=-1)]: Done  43 tasks      | elapsed:  9.1min\n",
      "[Parallel(n_jobs=-1)]: Done  44 tasks      | elapsed:  9.1min\n",
      "[Parallel(n_jobs=-1)]: Done  45 tasks      | elapsed:  9.1min\n",
      "[Parallel(n_jobs=-1)]: Done  46 tasks      | elapsed:  9.1min\n",
      "[Parallel(n_jobs=-1)]: Done  47 tasks      | elapsed:  9.4min\n",
      "[Parallel(n_jobs=-1)]: Done  48 tasks      | elapsed:  9.7min\n",
      "[Parallel(n_jobs=-1)]: Done  49 tasks      | elapsed:  9.8min\n",
      "[Parallel(n_jobs=-1)]: Done  50 tasks      | elapsed:  9.9min\n",
      "[Parallel(n_jobs=-1)]: Done  51 tasks      | elapsed:  9.9min\n",
      "[Parallel(n_jobs=-1)]: Done  52 tasks      | elapsed: 10.1min\n",
      "[Parallel(n_jobs=-1)]: Done  53 tasks      | elapsed: 10.1min\n",
      "[Parallel(n_jobs=-1)]: Done  54 tasks      | elapsed: 10.1min\n",
      "[Parallel(n_jobs=-1)]: Done  55 tasks      | elapsed: 10.2min\n",
      "[Parallel(n_jobs=-1)]: Done  56 tasks      | elapsed: 10.2min\n",
      "[Parallel(n_jobs=-1)]: Done  57 tasks      | elapsed: 10.2min\n",
      "[Parallel(n_jobs=-1)]: Done  58 tasks      | elapsed: 10.3min\n",
      "[Parallel(n_jobs=-1)]: Done  59 tasks      | elapsed: 10.5min\n",
      "[Parallel(n_jobs=-1)]: Done  60 tasks      | elapsed: 10.5min\n",
      "[Parallel(n_jobs=-1)]: Done  61 tasks      | elapsed: 10.9min\n",
      "[Parallel(n_jobs=-1)]: Done  62 tasks      | elapsed: 10.9min\n",
      "[Parallel(n_jobs=-1)]: Done  63 tasks      | elapsed: 10.9min\n",
      "[Parallel(n_jobs=-1)]: Done  64 tasks      | elapsed: 10.9min\n",
      "[Parallel(n_jobs=-1)]: Done  65 tasks      | elapsed: 10.9min\n",
      "[Parallel(n_jobs=-1)]: Done  66 tasks      | elapsed: 11.0min\n",
      "[Parallel(n_jobs=-1)]: Done  67 tasks      | elapsed: 11.0min\n",
      "[Parallel(n_jobs=-1)]: Done  68 tasks      | elapsed: 11.0min\n",
      "[Parallel(n_jobs=-1)]: Done  69 tasks      | elapsed: 11.0min\n",
      "[Parallel(n_jobs=-1)]: Done  70 tasks      | elapsed: 11.0min\n",
      "[Parallel(n_jobs=-1)]: Done  71 tasks      | elapsed: 11.0min\n",
      "[Parallel(n_jobs=-1)]: Done  72 tasks      | elapsed: 11.0min\n",
      "[Parallel(n_jobs=-1)]: Done  73 tasks      | elapsed: 11.3min\n",
      "[Parallel(n_jobs=-1)]: Done  74 tasks      | elapsed: 11.3min\n",
      "[Parallel(n_jobs=-1)]: Done  75 tasks      | elapsed: 11.4min\n",
      "[Parallel(n_jobs=-1)]: Done  76 tasks      | elapsed: 11.4min\n",
      "[Parallel(n_jobs=-1)]: Done  77 tasks      | elapsed: 11.4min\n",
      "[Parallel(n_jobs=-1)]: Done  78 tasks      | elapsed: 11.4min\n",
      "[Parallel(n_jobs=-1)]: Done  79 tasks      | elapsed: 11.4min\n",
      "[Parallel(n_jobs=-1)]: Done  80 tasks      | elapsed: 11.4min\n",
      "[Parallel(n_jobs=-1)]: Done  81 tasks      | elapsed: 11.4min\n",
      "[Parallel(n_jobs=-1)]: Done  82 tasks      | elapsed: 11.5min\n",
      "[Parallel(n_jobs=-1)]: Done  83 tasks      | elapsed: 11.5min\n",
      "[Parallel(n_jobs=-1)]: Done  84 tasks      | elapsed: 11.5min\n",
      "[Parallel(n_jobs=-1)]: Done  85 tasks      | elapsed: 11.6min\n",
      "[Parallel(n_jobs=-1)]: Done  86 tasks      | elapsed: 11.6min\n",
      "[Parallel(n_jobs=-1)]: Done  87 tasks      | elapsed: 11.6min\n",
      "[Parallel(n_jobs=-1)]: Done  88 tasks      | elapsed: 11.6min\n",
      "[Parallel(n_jobs=-1)]: Done  89 tasks      | elapsed: 11.7min\n",
      "[Parallel(n_jobs=-1)]: Done  90 tasks      | elapsed: 11.7min\n",
      "[Parallel(n_jobs=-1)]: Done  91 tasks      | elapsed: 13.8min\n",
      "[Parallel(n_jobs=-1)]: Done  92 tasks      | elapsed: 14.0min\n",
      "[Parallel(n_jobs=-1)]: Done  93 tasks      | elapsed: 14.0min\n",
      "[Parallel(n_jobs=-1)]: Done  94 tasks      | elapsed: 14.1min\n",
      "[Parallel(n_jobs=-1)]: Done  95 tasks      | elapsed: 14.2min\n",
      "[Parallel(n_jobs=-1)]: Done  96 tasks      | elapsed: 14.3min\n",
      "[Parallel(n_jobs=-1)]: Done  97 tasks      | elapsed: 14.3min\n",
      "[Parallel(n_jobs=-1)]: Done  98 tasks      | elapsed: 14.3min\n",
      "[Parallel(n_jobs=-1)]: Done  99 tasks      | elapsed: 14.4min\n",
      "[Parallel(n_jobs=-1)]: Done 100 tasks      | elapsed: 14.4min\n",
      "[Parallel(n_jobs=-1)]: Done 101 tasks      | elapsed: 14.5min\n",
      "[Parallel(n_jobs=-1)]: Done 102 tasks      | elapsed: 14.6min\n",
      "[Parallel(n_jobs=-1)]: Done 103 tasks      | elapsed: 15.5min\n",
      "[Parallel(n_jobs=-1)]: Done 104 tasks      | elapsed: 15.6min\n",
      "[Parallel(n_jobs=-1)]: Done 105 tasks      | elapsed: 15.9min\n",
      "[Parallel(n_jobs=-1)]: Done 106 tasks      | elapsed: 16.0min\n",
      "[Parallel(n_jobs=-1)]: Done 107 tasks      | elapsed: 16.0min\n",
      "[Parallel(n_jobs=-1)]: Done 108 tasks      | elapsed: 16.0min\n",
      "[Parallel(n_jobs=-1)]: Done 109 tasks      | elapsed: 16.0min\n",
      "[Parallel(n_jobs=-1)]: Done 110 tasks      | elapsed: 16.1min\n",
      "[Parallel(n_jobs=-1)]: Done 111 tasks      | elapsed: 16.2min\n",
      "[Parallel(n_jobs=-1)]: Done 112 tasks      | elapsed: 16.3min\n",
      "[Parallel(n_jobs=-1)]: Done 113 tasks      | elapsed: 16.3min\n",
      "[Parallel(n_jobs=-1)]: Done 114 tasks      | elapsed: 16.3min\n",
      "[Parallel(n_jobs=-1)]: Done 115 tasks      | elapsed: 16.8min\n",
      "[Parallel(n_jobs=-1)]: Done 116 tasks      | elapsed: 16.8min\n",
      "[Parallel(n_jobs=-1)]: Done 117 tasks      | elapsed: 16.9min\n",
      "[Parallel(n_jobs=-1)]: Done 118 tasks      | elapsed: 17.0min\n",
      "[Parallel(n_jobs=-1)]: Done 119 tasks      | elapsed: 17.2min\n",
      "[Parallel(n_jobs=-1)]: Done 120 tasks      | elapsed: 17.2min\n",
      "[Parallel(n_jobs=-1)]: Done 121 tasks      | elapsed: 17.2min\n",
      "[Parallel(n_jobs=-1)]: Done 122 tasks      | elapsed: 17.3min\n",
      "[Parallel(n_jobs=-1)]: Done 123 tasks      | elapsed: 17.3min\n",
      "[Parallel(n_jobs=-1)]: Done 124 tasks      | elapsed: 17.4min\n",
      "[Parallel(n_jobs=-1)]: Done 125 tasks      | elapsed: 17.5min\n",
      "[Parallel(n_jobs=-1)]: Done 126 tasks      | elapsed: 17.5min\n",
      "[Parallel(n_jobs=-1)]: Done 127 tasks      | elapsed: 17.6min\n",
      "[Parallel(n_jobs=-1)]: Done 128 tasks      | elapsed: 17.6min\n",
      "[Parallel(n_jobs=-1)]: Done 129 tasks      | elapsed: 17.7min\n",
      "[Parallel(n_jobs=-1)]: Done 130 tasks      | elapsed: 17.7min\n",
      "[Parallel(n_jobs=-1)]: Done 131 tasks      | elapsed: 17.7min\n",
      "[Parallel(n_jobs=-1)]: Done 132 tasks      | elapsed: 17.8min\n"
     ]
    },
    {
     "name": "stdout",
     "output_type": "stream",
     "text": [
      "[Parallel(n_jobs=-1)]: Done 133 tasks      | elapsed: 17.8min\n",
      "[Parallel(n_jobs=-1)]: Done 134 tasks      | elapsed: 17.8min\n",
      "[Parallel(n_jobs=-1)]: Done 135 tasks      | elapsed: 17.8min\n",
      "[Parallel(n_jobs=-1)]: Done 136 tasks      | elapsed: 18.0min\n",
      "[Parallel(n_jobs=-1)]: Done 137 tasks      | elapsed: 18.0min\n",
      "[Parallel(n_jobs=-1)]: Done 138 tasks      | elapsed: 18.0min\n",
      "[Parallel(n_jobs=-1)]: Done 139 tasks      | elapsed: 18.2min\n",
      "[Parallel(n_jobs=-1)]: Done 140 tasks      | elapsed: 18.2min\n",
      "[Parallel(n_jobs=-1)]: Done 141 tasks      | elapsed: 18.2min\n",
      "[Parallel(n_jobs=-1)]: Done 142 tasks      | elapsed: 18.4min\n",
      "[Parallel(n_jobs=-1)]: Done 143 tasks      | elapsed: 18.5min\n",
      "[Parallel(n_jobs=-1)]: Done 144 tasks      | elapsed: 18.5min\n",
      "[Parallel(n_jobs=-1)]: Done 145 tasks      | elapsed: 18.5min\n",
      "[Parallel(n_jobs=-1)]: Done 146 tasks      | elapsed: 18.5min\n",
      "[Parallel(n_jobs=-1)]: Done 147 tasks      | elapsed: 18.6min\n",
      "[Parallel(n_jobs=-1)]: Done 148 tasks      | elapsed: 18.7min\n",
      "[Parallel(n_jobs=-1)]: Done 149 tasks      | elapsed: 18.7min\n",
      "[Parallel(n_jobs=-1)]: Done 150 tasks      | elapsed: 18.9min\n",
      "[Parallel(n_jobs=-1)]: Done 151 tasks      | elapsed: 19.0min\n",
      "[Parallel(n_jobs=-1)]: Done 152 tasks      | elapsed: 19.1min\n",
      "[Parallel(n_jobs=-1)]: Done 153 tasks      | elapsed: 19.1min\n",
      "[Parallel(n_jobs=-1)]: Done 154 tasks      | elapsed: 19.1min\n",
      "[Parallel(n_jobs=-1)]: Done 155 tasks      | elapsed: 19.2min\n",
      "[Parallel(n_jobs=-1)]: Done 156 tasks      | elapsed: 19.2min\n",
      "[Parallel(n_jobs=-1)]: Done 157 tasks      | elapsed: 19.4min\n",
      "[Parallel(n_jobs=-1)]: Done 158 tasks      | elapsed: 19.4min\n",
      "[Parallel(n_jobs=-1)]: Done 159 tasks      | elapsed: 19.4min\n",
      "[Parallel(n_jobs=-1)]: Done 160 tasks      | elapsed: 19.4min\n",
      "[Parallel(n_jobs=-1)]: Done 161 tasks      | elapsed: 19.5min\n",
      "[Parallel(n_jobs=-1)]: Done 162 tasks      | elapsed: 19.9min\n",
      "[Parallel(n_jobs=-1)]: Done 163 tasks      | elapsed: 19.9min\n",
      "[Parallel(n_jobs=-1)]: Done 164 tasks      | elapsed: 19.9min\n",
      "[Parallel(n_jobs=-1)]: Done 165 tasks      | elapsed: 19.9min\n",
      "[Parallel(n_jobs=-1)]: Done 166 tasks      | elapsed: 19.9min\n",
      "[Parallel(n_jobs=-1)]: Done 167 tasks      | elapsed: 20.0min\n",
      "[Parallel(n_jobs=-1)]: Done 168 tasks      | elapsed: 20.1min\n",
      "[Parallel(n_jobs=-1)]: Done 169 tasks      | elapsed: 20.1min\n",
      "[Parallel(n_jobs=-1)]: Done 170 tasks      | elapsed: 20.2min\n",
      "[Parallel(n_jobs=-1)]: Done 171 tasks      | elapsed: 20.2min\n",
      "[Parallel(n_jobs=-1)]: Done 172 tasks      | elapsed: 20.2min\n",
      "[Parallel(n_jobs=-1)]: Done 173 tasks      | elapsed: 20.3min\n",
      "[Parallel(n_jobs=-1)]: Done 174 tasks      | elapsed: 20.5min\n",
      "[Parallel(n_jobs=-1)]: Done 175 tasks      | elapsed: 20.5min\n",
      "[Parallel(n_jobs=-1)]: Done 176 tasks      | elapsed: 20.5min\n",
      "[Parallel(n_jobs=-1)]: Done 177 tasks      | elapsed: 20.5min\n",
      "[Parallel(n_jobs=-1)]: Done 178 tasks      | elapsed: 20.5min\n",
      "[Parallel(n_jobs=-1)]: Done 179 tasks      | elapsed: 20.5min\n",
      "[Parallel(n_jobs=-1)]: Done 180 tasks      | elapsed: 20.6min\n",
      "[Parallel(n_jobs=-1)]: Done 181 tasks      | elapsed: 21.1min\n",
      "[Parallel(n_jobs=-1)]: Done 182 tasks      | elapsed: 21.1min\n",
      "[Parallel(n_jobs=-1)]: Done 183 tasks      | elapsed: 21.1min\n",
      "[Parallel(n_jobs=-1)]: Done 184 tasks      | elapsed: 21.1min\n",
      "[Parallel(n_jobs=-1)]: Done 185 tasks      | elapsed: 21.3min\n",
      "[Parallel(n_jobs=-1)]: Done 186 tasks      | elapsed: 21.3min\n",
      "[Parallel(n_jobs=-1)]: Done 187 tasks      | elapsed: 21.6min\n",
      "[Parallel(n_jobs=-1)]: Done 188 tasks      | elapsed: 21.6min\n",
      "[Parallel(n_jobs=-1)]: Done 189 tasks      | elapsed: 21.6min\n",
      "[Parallel(n_jobs=-1)]: Done 190 tasks      | elapsed: 21.8min\n",
      "[Parallel(n_jobs=-1)]: Done 191 tasks      | elapsed: 21.8min\n",
      "[Parallel(n_jobs=-1)]: Done 192 tasks      | elapsed: 22.0min\n",
      "[Parallel(n_jobs=-1)]: Done 193 tasks      | elapsed: 22.1min\n",
      "[Parallel(n_jobs=-1)]: Done 194 tasks      | elapsed: 22.1min\n",
      "[Parallel(n_jobs=-1)]: Done 195 tasks      | elapsed: 22.2min\n",
      "[Parallel(n_jobs=-1)]: Done 196 tasks      | elapsed: 22.2min\n",
      "[Parallel(n_jobs=-1)]: Done 197 tasks      | elapsed: 22.5min\n",
      "[Parallel(n_jobs=-1)]: Done 198 tasks      | elapsed: 22.5min\n",
      "[Parallel(n_jobs=-1)]: Done 199 tasks      | elapsed: 22.6min\n",
      "[Parallel(n_jobs=-1)]: Done 200 tasks      | elapsed: 22.6min\n",
      "[Parallel(n_jobs=-1)]: Done 201 tasks      | elapsed: 22.6min\n",
      "[Parallel(n_jobs=-1)]: Done 202 tasks      | elapsed: 23.0min\n",
      "[Parallel(n_jobs=-1)]: Done 203 tasks      | elapsed: 23.0min\n",
      "[Parallel(n_jobs=-1)]: Done 204 tasks      | elapsed: 23.0min\n",
      "[Parallel(n_jobs=-1)]: Done 205 tasks      | elapsed: 23.0min\n",
      "[Parallel(n_jobs=-1)]: Done 206 tasks      | elapsed: 23.0min\n",
      "[Parallel(n_jobs=-1)]: Done 207 tasks      | elapsed: 23.1min\n",
      "[Parallel(n_jobs=-1)]: Done 208 tasks      | elapsed: 23.4min\n",
      "[Parallel(n_jobs=-1)]: Done 209 tasks      | elapsed: 23.4min\n",
      "[Parallel(n_jobs=-1)]: Done 210 tasks      | elapsed: 23.4min\n",
      "[Parallel(n_jobs=-1)]: Done 211 tasks      | elapsed: 23.4min\n",
      "[Parallel(n_jobs=-1)]: Done 212 tasks      | elapsed: 23.4min\n",
      "[Parallel(n_jobs=-1)]: Done 213 tasks      | elapsed: 23.4min\n",
      "[Parallel(n_jobs=-1)]: Done 214 tasks      | elapsed: 23.7min\n",
      "[Parallel(n_jobs=-1)]: Done 215 tasks      | elapsed: 23.7min\n",
      "[Parallel(n_jobs=-1)]: Done 216 tasks      | elapsed: 23.8min\n",
      "[Parallel(n_jobs=-1)]: Done 217 tasks      | elapsed: 23.8min\n",
      "[Parallel(n_jobs=-1)]: Done 218 tasks      | elapsed: 23.8min\n",
      "[Parallel(n_jobs=-1)]: Done 219 tasks      | elapsed: 23.8min\n",
      "[Parallel(n_jobs=-1)]: Done 220 tasks      | elapsed: 24.4min\n",
      "[Parallel(n_jobs=-1)]: Done 221 tasks      | elapsed: 24.4min\n",
      "[Parallel(n_jobs=-1)]: Done 222 tasks      | elapsed: 24.4min\n",
      "[Parallel(n_jobs=-1)]: Done 223 tasks      | elapsed: 24.4min\n",
      "[Parallel(n_jobs=-1)]: Done 224 tasks      | elapsed: 24.4min\n",
      "[Parallel(n_jobs=-1)]: Done 225 tasks      | elapsed: 24.4min\n",
      "[Parallel(n_jobs=-1)]: Done 226 tasks      | elapsed: 24.8min\n",
      "[Parallel(n_jobs=-1)]: Done 227 tasks      | elapsed: 25.1min\n",
      "[Parallel(n_jobs=-1)]: Done 228 tasks      | elapsed: 25.1min\n",
      "[Parallel(n_jobs=-1)]: Done 229 tasks      | elapsed: 25.2min\n",
      "[Parallel(n_jobs=-1)]: Done 230 tasks      | elapsed: 25.3min\n",
      "[Parallel(n_jobs=-1)]: Done 231 tasks      | elapsed: 25.3min\n",
      "[Parallel(n_jobs=-1)]: Done 232 tasks      | elapsed: 25.4min\n",
      "[Parallel(n_jobs=-1)]: Done 233 tasks      | elapsed: 25.6min\n",
      "[Parallel(n_jobs=-1)]: Done 234 tasks      | elapsed: 25.7min\n",
      "[Parallel(n_jobs=-1)]: Done 235 tasks      | elapsed: 25.7min\n",
      "[Parallel(n_jobs=-1)]: Done 236 tasks      | elapsed: 25.7min\n",
      "[Parallel(n_jobs=-1)]: Done 237 tasks      | elapsed: 25.8min\n",
      "[Parallel(n_jobs=-1)]: Done 238 tasks      | elapsed: 26.1min\n",
      "[Parallel(n_jobs=-1)]: Done 239 tasks      | elapsed: 26.2min\n",
      "[Parallel(n_jobs=-1)]: Done 240 tasks      | elapsed: 26.2min\n",
      "[Parallel(n_jobs=-1)]: Done 241 tasks      | elapsed: 26.2min\n",
      "[Parallel(n_jobs=-1)]: Done 242 tasks      | elapsed: 26.3min\n",
      "[Parallel(n_jobs=-1)]: Done 243 tasks      | elapsed: 26.4min\n",
      "[Parallel(n_jobs=-1)]: Done 244 tasks      | elapsed: 26.5min\n",
      "[Parallel(n_jobs=-1)]: Done 245 tasks      | elapsed: 26.5min\n",
      "[Parallel(n_jobs=-1)]: Done 246 tasks      | elapsed: 26.6min\n",
      "[Parallel(n_jobs=-1)]: Done 247 tasks      | elapsed: 26.6min\n",
      "[Parallel(n_jobs=-1)]: Done 248 tasks      | elapsed: 26.6min\n",
      "[Parallel(n_jobs=-1)]: Done 249 tasks      | elapsed: 26.7min\n",
      "[Parallel(n_jobs=-1)]: Done 250 tasks      | elapsed: 26.9min\n",
      "[Parallel(n_jobs=-1)]: Done 251 tasks      | elapsed: 27.0min\n",
      "[Parallel(n_jobs=-1)]: Done 252 tasks      | elapsed: 27.0min\n",
      "[Parallel(n_jobs=-1)]: Done 253 tasks      | elapsed: 27.1min\n",
      "[Parallel(n_jobs=-1)]: Done 254 tasks      | elapsed: 27.1min\n",
      "[Parallel(n_jobs=-1)]: Done 255 tasks      | elapsed: 27.1min\n",
      "[Parallel(n_jobs=-1)]: Done 256 tasks      | elapsed: 27.2min\n",
      "[Parallel(n_jobs=-1)]: Done 257 tasks      | elapsed: 27.2min\n",
      "[Parallel(n_jobs=-1)]: Done 258 tasks      | elapsed: 27.2min\n",
      "[Parallel(n_jobs=-1)]: Done 259 tasks      | elapsed: 27.3min\n",
      "[Parallel(n_jobs=-1)]: Done 260 tasks      | elapsed: 27.3min\n",
      "[Parallel(n_jobs=-1)]: Done 261 tasks      | elapsed: 27.3min\n",
      "[Parallel(n_jobs=-1)]: Done 262 tasks      | elapsed: 27.4min\n",
      "[Parallel(n_jobs=-1)]: Done 263 tasks      | elapsed: 27.5min\n",
      "[Parallel(n_jobs=-1)]: Done 264 tasks      | elapsed: 27.5min\n",
      "[Parallel(n_jobs=-1)]: Done 265 tasks      | elapsed: 27.5min\n"
     ]
    },
    {
     "name": "stdout",
     "output_type": "stream",
     "text": [
      "[Parallel(n_jobs=-1)]: Done 266 tasks      | elapsed: 27.5min\n",
      "[Parallel(n_jobs=-1)]: Done 267 tasks      | elapsed: 27.5min\n",
      "[Parallel(n_jobs=-1)]: Done 268 tasks      | elapsed: 27.6min\n",
      "[Parallel(n_jobs=-1)]: Done 269 tasks      | elapsed: 27.6min\n",
      "[Parallel(n_jobs=-1)]: Done 270 tasks      | elapsed: 27.6min\n",
      "[Parallel(n_jobs=-1)]: Done 271 tasks      | elapsed: 29.4min\n",
      "[Parallel(n_jobs=-1)]: Done 272 tasks      | elapsed: 29.5min\n",
      "[Parallel(n_jobs=-1)]: Done 273 tasks      | elapsed: 29.6min\n",
      "[Parallel(n_jobs=-1)]: Done 274 tasks      | elapsed: 29.6min\n",
      "[Parallel(n_jobs=-1)]: Done 275 tasks      | elapsed: 29.7min\n",
      "[Parallel(n_jobs=-1)]: Done 276 tasks      | elapsed: 29.7min\n",
      "[Parallel(n_jobs=-1)]: Done 277 tasks      | elapsed: 29.7min\n",
      "[Parallel(n_jobs=-1)]: Done 278 tasks      | elapsed: 29.7min\n",
      "[Parallel(n_jobs=-1)]: Done 279 tasks      | elapsed: 29.7min\n",
      "[Parallel(n_jobs=-1)]: Done 280 tasks      | elapsed: 29.8min\n",
      "[Parallel(n_jobs=-1)]: Done 281 tasks      | elapsed: 29.9min\n",
      "[Parallel(n_jobs=-1)]: Done 282 tasks      | elapsed: 29.9min\n",
      "[Parallel(n_jobs=-1)]: Done 283 tasks      | elapsed: 30.9min\n",
      "[Parallel(n_jobs=-1)]: Done 284 tasks      | elapsed: 31.0min\n",
      "[Parallel(n_jobs=-1)]: Done 285 tasks      | elapsed: 31.0min\n",
      "[Parallel(n_jobs=-1)]: Done 286 tasks      | elapsed: 31.1min\n",
      "[Parallel(n_jobs=-1)]: Done 287 tasks      | elapsed: 31.1min\n",
      "[Parallel(n_jobs=-1)]: Done 288 tasks      | elapsed: 31.1min\n",
      "[Parallel(n_jobs=-1)]: Done 289 tasks      | elapsed: 31.2min\n",
      "[Parallel(n_jobs=-1)]: Done 290 tasks      | elapsed: 31.2min\n",
      "[Parallel(n_jobs=-1)]: Done 291 tasks      | elapsed: 31.2min\n",
      "[Parallel(n_jobs=-1)]: Done 292 tasks      | elapsed: 31.2min\n",
      "[Parallel(n_jobs=-1)]: Done 293 tasks      | elapsed: 31.3min\n",
      "[Parallel(n_jobs=-1)]: Done 294 tasks      | elapsed: 31.4min\n",
      "[Parallel(n_jobs=-1)]: Done 295 tasks      | elapsed: 32.0min\n",
      "[Parallel(n_jobs=-1)]: Done 296 tasks      | elapsed: 32.1min\n",
      "[Parallel(n_jobs=-1)]: Done 297 tasks      | elapsed: 32.1min\n",
      "[Parallel(n_jobs=-1)]: Done 298 tasks      | elapsed: 32.1min\n",
      "[Parallel(n_jobs=-1)]: Done 299 tasks      | elapsed: 32.1min\n",
      "[Parallel(n_jobs=-1)]: Done 300 tasks      | elapsed: 32.1min\n"
     ]
    }
   ],
   "source": [
    "from sklearn.model_selection import StratifiedShuffleSplit\n",
    "from sklearn.model_selection import GridSearchCV\n",
    "from sklearn import linear_model\n",
    "\n",
    "param_grid = [\n",
    "  \n",
    "  {'penalty' :['l2'],'tol': [1e-10, 1e-9,1e-8,1e-7,1e-6,1e-6,1e-5,1e-4,1e-3],\n",
    "   'C': [1e+01, 1e+02, 1e+03], \n",
    "   'solver': ['newton-cg', 'sag', 'saga', 'lbfgs'],'max_iter': [400,500,600],\n",
    "   'multi_class': ['ovr', 'multinomial']}\n",
    " ]\n",
    "cv = StratifiedShuffleSplit(n_splits=5, test_size=0.2)\n",
    "grid = GridSearchCV(linear_model.LogisticRegression(n_jobs=-1), param_grid=param_grid, cv=cv,verbose = 50,n_jobs=-1)\n",
    "grid.fit(X_lsa, re_sentiments)\n",
    "\n",
    "print(\"The best parameters are %s with a score of %0.2f\"\n",
    "      % (grid.best_params_, grid.best_score_))"
   ]
  },
  {
   "cell_type": "markdown",
   "metadata": {},
   "source": [
    "#### 1.5 The performance of Softmax using the dataset plus the synthized data after applying dimensionality reduction ."
   ]
  },
  {
   "cell_type": "code",
   "execution_count": 16,
   "metadata": {},
   "outputs": [
    {
     "name": "stdout",
     "output_type": "stream",
     "text": [
      "0.7870\n"
     ]
    }
   ],
   "source": [
    "from sklearn import linear_model\n",
    "from sklearn.model_selection import train_test_split\n",
    "\n",
    "X_train, X_test, y_train, y_test = train_test_split(X_lsa, re_sentiments, stratify = re_sentiments)\n",
    "softmax = linear_model.LogisticRegression(penalty ='l2', tol=1e-7, C=1000, solver = 'lbfgs', multi_class = 'multinomial',max_iter=700)\n",
    "softmax.fit(X_train, y_train)\n",
    "print \"%.4f\" % (softmax.score(X_test, y_test))"
   ]
  },
  {
   "cell_type": "code",
   "execution_count": null,
   "metadata": {},
   "outputs": [],
   "source": [
    "from sklearn import linear_model\n",
    "from sklearn.model_selection import train_test_split\n",
    "\n",
    "X_train, X_test, y_train, y_test = train_test_split(X_lsa, re_sentiments, stratify = re_sentiments)\n",
    "softmax = linear_model.LogisticRegression(penalty ='l1', tol=1e-7, C=1000, solver = 'saga', multi_class = 'multinomial',max_iter=700)\n",
    "softmax.fit(X_train, y_train)\n",
    "print \"%.4f\" % (softmax.score(X_test, y_test))"
   ]
  },
  {
   "cell_type": "markdown",
   "metadata": {},
   "source": [
    "#### 1.6 Calculating the average performance over 100 runs"
   ]
  },
  {
   "cell_type": "code",
   "execution_count": 17,
   "metadata": {},
   "outputs": [
    {
     "name": "stdout",
     "output_type": "stream",
     "text": [
      "Average Absolute accuracy 0.704653567735\n"
     ]
    }
   ],
   "source": [
    "from sklearn import linear_model\n",
    "from sklearn.model_selection import train_test_split\n",
    "\n",
    "softmax = linear_model.LogisticRegression(penalty ='l2', tol=1e-7, C=1000, solver = 'newton-cg', multi_class = 'multinomial',max_iter=700)\n",
    "total_score = 0\n",
    "\n",
    "for i in range(1,10):\n",
    "    X_train, X_test, y_train, y_test = train_test_split(X_lsa, re_sentiments, stratify = re_sentiments)\n",
    "    softmax.fit(X_train, y_train)\n",
    "    if i %10 == 0:\n",
    "        print 'run '+ str (i)\n",
    "    \n",
    "    total_score += softmax.score(X_test, y_test)\n",
    "    \n",
    "print 'Average Absolute accuracy ' + str(total_score*1.0/10)"
   ]
  },
  {
   "cell_type": "markdown",
   "metadata": {},
   "source": [
    "### Classifier #2 Support Vector Machine (SVM)"
   ]
  },
  {
   "cell_type": "markdown",
   "metadata": {},
   "source": [
    "#### 2.1 The performance of SVM on the imbalance data."
   ]
  },
  {
   "cell_type": "code",
   "execution_count": 18,
   "metadata": {},
   "outputs": [
    {
     "data": {
      "text/plain": [
       "0.65289256198347112"
      ]
     },
     "execution_count": 18,
     "metadata": {},
     "output_type": "execute_result"
    }
   ],
   "source": [
    "from sklearn import svm\n",
    "from sklearn.model_selection import train_test_split\n",
    "\n",
    "X_train, X_test, y_train, y_test = train_test_split(X_tfidf, sentiments, stratify = sentiments)\n",
    "svmClf = svm.SVC(tol=1e-7,C=1000,kernel='rbf',gamma = 1.0)\n",
    "svmClf.fit(X_train, y_train)\n",
    "svmClf.score(X_test, y_test)"
   ]
  },
  {
   "cell_type": "markdown",
   "metadata": {},
   "source": [
    "#### 2.2 The performance of SVM using the dataset plus the synthized data."
   ]
  },
  {
   "cell_type": "code",
   "execution_count": 19,
   "metadata": {},
   "outputs": [
    {
     "data": {
      "text/plain": [
       "0.78076525336091007"
      ]
     },
     "execution_count": 19,
     "metadata": {},
     "output_type": "execute_result"
    }
   ],
   "source": [
    "from sklearn import svm\n",
    "from sklearn.model_selection import train_test_split\n",
    "\n",
    "X_train, X_test, y_train, y_test = train_test_split(re_X_tfidf, re_sentiments, stratify = re_sentiments)\n",
    "svmClf = svm.SVC(tol=1e-7,C=1000,kernel='rbf',gamma = 1.0)\n",
    "svmClf.fit(X_train, y_train)\n",
    "svmClf.score(X_test, y_test)"
   ]
  },
  {
   "cell_type": "markdown",
   "metadata": {},
   "source": [
    "#### 2.3 Applying  Dimensionality Reduction.  <br/>\n",
    "Note: Since the tf-idf matrix is sparce, PCA with svd_solver cannot be used, insted we use Latent Semantic Analysis (LSA) which is also known as Truncated SVD."
   ]
  },
  {
   "cell_type": "code",
   "execution_count": 62,
   "metadata": {},
   "outputs": [
    {
     "name": "stdout",
     "output_type": "stream",
     "text": [
      "(7437L, 3300L)\n"
     ]
    }
   ],
   "source": [
    "from sklearn.decomposition import TruncatedSVD\n",
    "\n",
    "lsa = TruncatedSVD(n_components = 3300, algorithm='randomized')\n",
    "X_lsa = lsa.fit_transform(re_X_tfidf)\n",
    "print X_lsa.shape"
   ]
  },
  {
   "cell_type": "markdown",
   "metadata": {},
   "source": [
    "#### 2.4 Performing Grid Search"
   ]
  },
  {
   "cell_type": "code",
   "execution_count": null,
   "metadata": {},
   "outputs": [],
   "source": [
    "from sklearn.model_selection import StratifiedShuffleSplit\n",
    "from sklearn.model_selection import GridSearchCV\n",
    "from sklearn import svm\n",
    "\n",
    "param_grid = [\n",
    "  {'C': [1.00000000e-02,   1.00000000e-01,   1.00000000e+00,\n",
    "         1.00000000e+01,   1.00000000e+02,   1.00000000e+03], \n",
    "   'gamma': [ 1.00000000e-02,   1.00000000e-01,\n",
    "         1.00000000e+00,   1.00000000e+01,   1.00000000e+02,\n",
    "         1.00000000e+03], 'kernel': ['rbf']}]\n",
    "cv = StratifiedShuffleSplit(n_splits=5, test_size=0.2)\n",
    "grid = GridSearchCV(svm.SVC(), param_grid=param_grid, cv=cv,verbose = 9,n_jobs=-1)\n",
    "grid.fit(X_lsa, re_sentiments)\n",
    "\n",
    "print(\"The best parameters are %s with a score of %0.2f\"\n",
    "      % (grid.best_params_, grid.best_score_))"
   ]
  },
  {
   "cell_type": "markdown",
   "metadata": {},
   "source": [
    "#### 2.5  The performance of SVM using the dataset plus the synthized data after applying  dimensionality reduction."
   ]
  },
  {
   "cell_type": "code",
   "execution_count": null,
   "metadata": {},
   "outputs": [
    {
     "data": {
      "text/plain": [
       "0.79679420889348496"
      ]
     },
     "execution_count": 20,
     "metadata": {},
     "output_type": "execute_result"
    }
   ],
   "source": [
    "X_train, X_test, y_train, y_test = train_test_split(X_lsa, re_sentiments, stratify = re_sentiments)\n",
    "svmClf = svm.SVC(tol=1e-7,C=1000,kernel='rbf')\n",
    "svmClf.fit(X_train, y_train)\n",
    "svmClf.score(X_test, y_test)"
   ]
  },
  {
   "cell_type": "markdown",
   "metadata": {},
   "source": [
    "#### 2.6 Calculating the average performance over 100 runs"
   ]
  },
  {
   "cell_type": "code",
   "execution_count": null,
   "metadata": {},
   "outputs": [],
   "source": [
    "from sklearn import svm\n",
    "from sklearn.model_selection import train_test_split\n",
    "\n",
    "svmClf = svm.SVC(tol=1e-7,C=1000,kernel='rbf',gamma = 1.0)\n",
    "total_score = 0\n",
    "\n",
    "for i in range(1,100):\n",
    "    X_train, X_test, y_train, y_test = train_test_split(X_lsa, re_sentiments, stratify = re_sentiments)\n",
    "    svmClf.fit(X_train, y_train)\n",
    "    if i %10 == 0:\n",
    "        print 'run '+ str (i)\n",
    "    \n",
    "    total_score += svmClf.score(X_test, y_test)\n",
    "    \n",
    "print 'Average Absolute accuracy ' + str(total_score*1.0/100)"
   ]
  },
  {
   "cell_type": "markdown",
   "metadata": {},
   "source": [
    "### Classifier #3 Multinomial Naïve Bayes"
   ]
  },
  {
   "cell_type": "markdown",
   "metadata": {},
   "source": [
    "#### 3.1 The performance of Multinomial Naïve Bayes on the imbalance data."
   ]
  },
  {
   "cell_type": "code",
   "execution_count": null,
   "metadata": {},
   "outputs": [],
   "source": [
    "from sklearn.naive_bayes import MultinomialNB\n",
    "from sklearn.model_selection import train_test_split\n",
    "\n",
    "X_train, X_test, y_train, y_test = train_test_split(X_tfidf, sentiments, stratify = sentiments)\n",
    "mnbClf = MultinomialNB(1e-50)\n",
    "mnbClf.fit(X_train, y_train)\n",
    "mnbClf.score(X_test, y_test)"
   ]
  },
  {
   "cell_type": "markdown",
   "metadata": {},
   "source": [
    "#### 3.2 The performance of Multinomial Naïve Bayes using the dataset plus the synthized data."
   ]
  },
  {
   "cell_type": "code",
   "execution_count": null,
   "metadata": {},
   "outputs": [],
   "source": [
    "from sklearn.naive_bayes import MultinomialNB\n",
    "from sklearn.model_selection import train_test_split\n",
    "\n",
    "X_train, X_test, y_train, y_test = train_test_split(re_X_tfidf, re_sentiments, stratify = re_sentiments)\n",
    "mnbClf = MultinomialNB(1e-80)\n",
    "mnbClf.fit(X_train, y_train)\n",
    "mnbClf.score(X_test, y_test)"
   ]
  },
  {
   "cell_type": "markdown",
   "metadata": {},
   "source": [
    "#### 3.3 Applying  Dimensionality Reduction.  <br/>\n",
    "Note: Since Naïve Bayes does not allow negative feature, Non-negative Matrix Factorization (NMf) is used in dimensionality reduction."
   ]
  },
  {
   "cell_type": "code",
   "execution_count": null,
   "metadata": {},
   "outputs": [],
   "source": [
    "from sklearn.decomposition import NMF\n",
    "nmf = NMF(n_components=1550, init='random', random_state=0)\n",
    "X_nmf = nmf.fit_transform(re_X_tfidf)\n"
   ]
  },
  {
   "cell_type": "markdown",
   "metadata": {},
   "source": [
    "#### 3.4 Performing Grid Search."
   ]
  },
  {
   "cell_type": "code",
   "execution_count": null,
   "metadata": {},
   "outputs": [],
   "source": [
    "from sklearn.model_selection import StratifiedShuffleSplit\n",
    "from sklearn.model_selection import GridSearchCV\n",
    "from sklearn.naive_bayes import MultinomialNB\n",
    "from sklearn.model_selection import train_test_split\n",
    "\n",
    "param_grid = [\n",
    "  {'alpha': [1e-1000,   1e-100,   1e-50, 1e-25,   1e-16,   1e-7]}]\n",
    "\n",
    "cv = StratifiedShuffleSplit(n_splits=10, test_size=0.2)\n",
    "grid = GridSearchCV(MultinomialNB(), param_grid=param_grid, cv=cv,verbose = 9,n_jobs=-1)\n",
    "grid.fit(X_nmf, re_sentiments)\n",
    "\n",
    "print(\"The best parameters are %s with a score of %0.2f\"\n",
    "      % (grid.best_params_, grid.best_score_))"
   ]
  },
  {
   "cell_type": "markdown",
   "metadata": {},
   "source": [
    "#### 3.5 The performance of SVM using the dataset plus the synthized data after applying dimensionality reduction. "
   ]
  },
  {
   "cell_type": "code",
   "execution_count": null,
   "metadata": {},
   "outputs": [],
   "source": [
    "from sklearn.naive_bayes import MultinomialNB\n",
    "from sklearn.model_selection import train_test_split\n",
    "\n",
    "X_train, X_test, y_train, y_test = train_test_split(X_nmf, re_sentiments, stratify = re_sentiments)\n",
    "mnbClf = MultinomialNB(alpha = 1e-16)\n",
    "mnbClf.fit(X_train, y_train)\n",
    "mnbClf.score(X_test, y_test)"
   ]
  },
  {
   "cell_type": "markdown",
   "metadata": {},
   "source": [
    "#### 3.6 Calculating the average performance over 100 runs"
   ]
  },
  {
   "cell_type": "code",
   "execution_count": null,
   "metadata": {},
   "outputs": [],
   "source": [
    "from sklearn.naive_bayes import MultinomialNB\n",
    "from sklearn.model_selection import train_test_split\n",
    "\n",
    "mnbClf = MultinomialNB(alpha = 1e-16)\n",
    "total_score = 0\n",
    "\n",
    "for i in range(1,100):\n",
    "    X_train, X_test, y_train, y_test = train_test_split(X_nmf, re_sentiments, stratify = re_sentiments)\n",
    "    mnbClf.fit(X_train, y_train)\n",
    "    if i %10 == 0:\n",
    "        print 'run '+ str (i)\n",
    "    \n",
    "    total_score += mnbClf.score(X_test, y_test)\n",
    "    \n",
    "print 'Average Absolute accuracy ' + str(total_score*1.0/100)"
   ]
  },
  {
   "cell_type": "markdown",
   "metadata": {},
   "source": [
    "### Classifier #4 Random Forest"
   ]
  },
  {
   "cell_type": "markdown",
   "metadata": {},
   "source": [
    "#### 4.1 The performance of Random Forest on the imbalance data."
   ]
  },
  {
   "cell_type": "code",
   "execution_count": null,
   "metadata": {},
   "outputs": [],
   "source": [
    "from sklearn.ensemble import RandomForestClassifier\n",
    "from sklearn.model_selection import train_test_split\n",
    "\n",
    "X_train, X_test, y_train, y_test = train_test_split(X_tfidf, sentiments, stratify = sentiments)\n",
    "rfClf = RandomForestClassifier(n_estimators=100,max_depth=300,  n_jobs=-1)\n",
    "rfClf.fit(X_train, y_train)\n",
    "rfClf.score(X_test, y_test)"
   ]
  },
  {
   "cell_type": "markdown",
   "metadata": {},
   "source": [
    "#### 4.2 The performance of Random Forest using the dataset plus the synthized data."
   ]
  },
  {
   "cell_type": "code",
   "execution_count": 61,
   "metadata": {},
   "outputs": [
    {
     "data": {
      "text/plain": [
       "0.70860215053763442"
      ]
     },
     "execution_count": 61,
     "metadata": {},
     "output_type": "execute_result"
    }
   ],
   "source": [
    "from sklearn.ensemble import RandomForestClassifier\n",
    "from sklearn.model_selection import train_test_split\n",
    "\n",
    "X_train, X_test, y_train, y_test = train_test_split(re_X_tfidf, re_sentiments, stratify = re_sentiments)\n",
    "rfClf = RandomForestClassifier(n_estimators=100,max_depth=300, n_jobs=-1)\n",
    "rfClf.fit(X_train, y_train)\n",
    "rfClf.score(X_test, y_test)"
   ]
  },
  {
   "cell_type": "markdown",
   "metadata": {},
   "source": [
    "#### 4.3 Applying  Dimensionality Reduction.  <br/>\n",
    "Note: Since the tf-idf matrix is sparce, PCA with svd_solver cannot be used, insted we use Latent Semantic Analysis (LSA) which is also known as Truncated SVD."
   ]
  },
  {
   "cell_type": "code",
   "execution_count": null,
   "metadata": {},
   "outputs": [],
   "source": [
    "from sklearn.decomposition import TruncatedSVD\n",
    "\n",
    "lsa = TruncatedSVD(n_components = 3300, algorithm='randomized')\n",
    "X_lsa = lsa.fit_transform(re_X_tfidf)\n",
    "print X_lsa.shape"
   ]
  },
  {
   "cell_type": "markdown",
   "metadata": {},
   "source": [
    "#### 4.4 Performing Grid Search."
   ]
  },
  {
   "cell_type": "code",
   "execution_count": null,
   "metadata": {},
   "outputs": [],
   "source": [
    "from sklearn.model_selection import StratifiedShuffleSplit\n",
    "from sklearn.model_selection import GridSearchCV\n",
    "from sklearn.ensemble import RandomForestClassifier\n",
    "\n",
    "param_grid = [\n",
    "  {'n_estimators ' : [ 10, 100,200,300,400,500,600,700,800,900,100],\n",
    "   'max_depth': [1e+01, 1e+02, 1e+03], \n",
    "   }]\n",
    "cv = StratifiedShuffleSplit(n_splits=5, test_size=0.2)\n",
    "grid = GridSearchCV(RandomForestClassifier(), param_grid=param_grid, cv=cv,verbose = 9,n_jobs=-1)\n",
    "grid.fit(X_lsa, re_sentiments)\n",
    "\n",
    "print(\"The best parameters are %s with a score of %0.2f\"\n",
    "      % (grid.best_params_, grid.best_score_))"
   ]
  },
  {
   "cell_type": "markdown",
   "metadata": {},
   "source": [
    "#### 4.5 The performance of Random Forest using the dataset plus the synthized data after applying dimensionality reduction. "
   ]
  },
  {
   "cell_type": "code",
   "execution_count": null,
   "metadata": {},
   "outputs": [],
   "source": [
    "from sklearn.ensemble import RandomForestClassifier\n",
    "from sklearn.model_selection import train_test_split\n",
    "\n",
    "X_train, X_test, y_train, y_test = train_test_split(X_lsa, re_sentiments, stratify = re_sentiments)\n",
    "rfClf = RandomForestClassifier(n_estimators=100,max_depth=300, n_jobs=-1)\n",
    "rfClf.fit(X_train, y_train)\n",
    "rfClf.score(X_test, y_test)"
   ]
  },
  {
   "cell_type": "markdown",
   "metadata": {},
   "source": [
    "#### 4.6 Calculating the average performance over 100 runs"
   ]
  },
  {
   "cell_type": "code",
   "execution_count": null,
   "metadata": {},
   "outputs": [],
   "source": [
    "from sklearn.ensemble import RandomForestClassifier\n",
    "from sklearn.model_selection import train_test_split\n",
    "\n",
    "rfClf = RandomForestClassifier(n_estimators=100,max_depth=300, n_jobs=-1)\n",
    "total_score = 0\n",
    "\n",
    "for i in range(1,100):\n",
    "    X_train, X_test, y_train, y_test = train_test_split(X_lsa, re_sentiments, stratify = re_sentiments)\n",
    "    rfClf.fit(X_train, y_train)\n",
    "    if i %10 == 0:\n",
    "        print 'run '+ str (i)\n",
    "    \n",
    "    total_score += rfClf.score(X_test, y_test)\n",
    "    \n",
    "print 'Average Absolute accuracy ' + str(total_score*1.0/100)"
   ]
  },
  {
   "cell_type": "markdown",
   "metadata": {},
   "source": [
    "### 5 Ensemble of all Previous Classifiers"
   ]
  },
  {
   "cell_type": "markdown",
   "metadata": {},
   "source": [
    "#### 5.1 The performance of the ensemble on the imbalance data."
   ]
  },
  {
   "cell_type": "code",
   "execution_count": null,
   "metadata": {},
   "outputs": [],
   "source": [
    "from sklearn.ensemble import VotingClassifier\n",
    "X_train, X_test, y_train, y_test = train_test_split(X_tfidf, sentiments, stratify = sentiments)\n",
    "\n",
    "\n",
    "clf1 = linear_model.LogisticRegression(penalty ='l2', tol=1e-7, C=1, solver = 'newton-cg', multi_class = 'multinomial',max_iter=500)\n",
    "clf2 = svm.SVC(tol=1e-7,C=1000,kernel='rbf',gamma = 1.0, probability=True)\n",
    "clf3 = MultinomialNB(alpha = 1e-16)\n",
    "clf4 = RandomForestClassifier(n_estimators=100,max_depth=300, n_jobs=-1)\n",
    "eclf = VotingClassifier(estimators=[\n",
    "        ('clf1', clf1), ('clf2', clf2), ('clf3', clf3),(('clf4', clf4))],\n",
    "        voting='soft')\n",
    "\n",
    "eclf.fit(X_train, y_train)\n",
    "\n",
    "eclf.score(X_test, y_test)"
   ]
  },
  {
   "cell_type": "markdown",
   "metadata": {},
   "source": [
    "#### 5.2 The performance of the ensemble using the dataset plus the synthized data."
   ]
  },
  {
   "cell_type": "code",
   "execution_count": 62,
   "metadata": {},
   "outputs": [
    {
     "data": {
      "text/plain": [
       "0.81989247311827962"
      ]
     },
     "execution_count": 62,
     "metadata": {},
     "output_type": "execute_result"
    }
   ],
   "source": [
    "from sklearn.ensemble import VotingClassifier\n",
    "X_train, X_test, y_train, y_test = train_test_split(re_X_tfidf, re_sentiments, stratify = re_sentiments)\n",
    "\n",
    "\n",
    "clf1 = linear_model.LogisticRegression(penalty ='l2', tol=1e-7, C=1, solver = 'newton-cg', multi_class = 'multinomial',max_iter=500)\n",
    "clf2 = svm.SVC(tol=1e-7,C=1000,kernel='rbf',gamma = 1.0, probability=True)\n",
    "clf3 = MultinomialNB(alpha = 1e-16)\n",
    "clf4 = RandomForestClassifier(n_estimators=100,max_depth=300, n_jobs=-1)\n",
    "eclf = VotingClassifier(estimators=[\n",
    "        ('clf1', clf1), ('clf2', clf2), ('clf3', clf3),(('clf4', clf4))],\n",
    "        voting='soft')\n",
    "\n",
    "eclf.fit(X_train, y_train)\n",
    "\n",
    "eclf.score(X_test, y_test)"
   ]
  },
  {
   "cell_type": "markdown",
   "metadata": {},
   "source": [
    "#### 5.3 Applying  Dimensionality Reduction.  <br/>\n",
    "Note: Since Naïve Bayes does not allow negative feature, Non-negative Matrix Factorization (NMf) is used in dimensionality reduction."
   ]
  },
  {
   "cell_type": "code",
   "execution_count": null,
   "metadata": {},
   "outputs": [],
   "source": [
    "from sklearn.decomposition import NMF\n",
    "nmf = NMF(n_components=1550, init='random', random_state=0)\n",
    "X_nmf = nmf.fit_transform(re_X_tfidf)"
   ]
  },
  {
   "cell_type": "markdown",
   "metadata": {},
   "source": [
    "#### 5.4 The performance of the ensemble using the dataset plus the synthized data after applying dimensionality reduction. "
   ]
  },
  {
   "cell_type": "code",
   "execution_count": null,
   "metadata": {},
   "outputs": [],
   "source": [
    "from sklearn.ensemble import VotingClassifier\n",
    "X_train, X_test, y_train, y_test = train_test_split(X_nmf, re_sentiments, stratify = re_sentiments)\n",
    "\n",
    "\n",
    "clf1 = linear_model.LogisticRegression(penalty ='l2', tol=1e-7, C=1, solver = 'newton-cg', multi_class = 'multinomial',max_iter=500)\n",
    "clf2 = svm.SVC(tol=1e-7,C=1000,kernel='rbf',gamma = 1.0, probability=True)\n",
    "clf3 = MultinomialNB(alpha = 1e-16)\n",
    "clf4 = RandomForestClassifier(n_estimators=100,max_depth=300,  n_jobs=-1)\n",
    "eclf = VotingClassifier(estimators=[\n",
    "        ('clf1', clf1), ('clf2', clf2), ('clf3', clf3),(('clf4', clf4))],\n",
    "        voting='soft')\n",
    "\n",
    "eclf.fit(X_train, y_train)\n",
    "\n",
    "eclf.score(X_test, y_test)"
   ]
  },
  {
   "cell_type": "markdown",
   "metadata": {},
   "source": [
    "#### 5.5 Calculating the average performance over 100 runs"
   ]
  },
  {
   "cell_type": "code",
   "execution_count": null,
   "metadata": {},
   "outputs": [],
   "source": [
    "from sklearn.ensemble import VotingClassifier\n",
    "from sklearn.model_selection import train_test_split\n",
    "\n",
    "total_score = 0\n",
    "\n",
    "clf1 = linear_model.LogisticRegression(penalty ='l2', tol=1e-7, C=1, solver = 'newton-cg', multi_class = 'multinomial',max_iter=500)\n",
    "clf2 = svm.SVC(tol=1e-7,C=1000,kernel='rbf',gamma = 1.0, probability=True)\n",
    "clf3 = MultinomialNB(alpha = 1e-16)\n",
    "clf4 = RandomForestClassifier(n_estimators=100,max_depth=300, n_jobs=-1)\n",
    "eclf = VotingClassifier(estimators=[\n",
    "        ('clf1', clf1), ('clf2', clf2), ('clf3', clf3),(('clf4', clf4))],\n",
    "        voting='soft')\n",
    "\n",
    "for i in range(1,100):\n",
    "    X_train, X_test, y_train, y_test = train_test_split(X_nmf, re_sentiments, stratify = re_sentiments)\n",
    "    eclf.fit(X_train, y_train)\n",
    "    if i %10 == 0:\n",
    "        print 'run '+ str (i)\n",
    "    \n",
    "    total_score += eclf.score(X_test, y_test)\n",
    "    \n",
    "print 'Average Absolute accuracy ' + str(total_score*1.0/100)"
   ]
  }
 ],
 "metadata": {
  "kernelspec": {
   "display_name": "Python 3",
   "language": "python",
   "name": "python3"
  },
  "language_info": {
   "codemirror_mode": {
    "name": "ipython",
    "version": 3
   },
   "file_extension": ".py",
   "mimetype": "text/x-python",
   "name": "python",
   "nbconvert_exporter": "python",
   "pygments_lexer": "ipython3",
   "version": "3.7.3"
  }
 },
 "nbformat": 4,
 "nbformat_minor": 2
}
